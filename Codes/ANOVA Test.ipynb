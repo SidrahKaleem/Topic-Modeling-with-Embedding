{
 "cells": [
  {
   "cell_type": "code",
   "execution_count": 41,
   "id": "7c01e0c3",
   "metadata": {},
   "outputs": [
    {
     "name": "stdout",
     "output_type": "stream",
     "text": [
      "ANOVA Test Results:\n",
      "F-statistic: 5.9306\n",
      "P-value: 0.0379\n"
     ]
    }
   ],
   "source": [
    "import pandas as pd\n",
    "from scipy.stats import f_oneway\n",
    "\n",
    "# Example data\n",
    "data = {\n",
    "    'Models': ['LDA', 'LDA', 'LDA', 'Word2vec', 'Word2vec', 'Word2vec', 'WELDA', 'WELDA', 'WELDA'],\n",
    "    'Accuracy': [44, 74, 59, 48, 86, 67, 96, 97, 96]\n",
    "}\n",
    "\n",
    "# Create DataFrame\n",
    "df = pd.DataFrame(data)\n",
    "\n",
    "# Perform ANOVA\n",
    "anova_result = f_oneway(df[df['Models'] == 'LDA']['Accuracy'],\n",
    "                        df[df['Models'] == 'Word2vec']['Accuracy'],\n",
    "                        df[df['Models'] == 'WELDA']['Accuracy'])\n",
    "\n",
    "# Print ANOVA results\n",
    "print(\"ANOVA Test Results:\")\n",
    "print(f\"F-statistic: {anova_result.statistic:.4f}\")\n",
    "print(f\"P-value: {anova_result.pvalue:.4f}\")\n"
   ]
  },
  {
   "cell_type": "code",
   "execution_count": 44,
   "id": "43264ede",
   "metadata": {},
   "outputs": [
    {
     "name": "stdout",
     "output_type": "stream",
     "text": [
      "ANOVA Test Results:\n",
      "F-statistic: 9.2711\n",
      "P-value: 0.0146\n"
     ]
    }
   ],
   "source": [
    "import pandas as pd\n",
    "from scipy.stats import f_oneway\n",
    "\n",
    "# Example data\n",
    "data = {\n",
    "    'Models': ['LDA', 'LDA', 'LDA', 'Word2vec', 'Word2vec', 'Word2vec', 'WELDA', 'WELDA', 'WELDA'],\n",
    "    'Topic Coherency': [0.68025, 0.67332,0.67678, 0.40191, 0.43947, 0.42069, 0.699, 0.448, 0.5735]\n",
    "}\n",
    "\n",
    "# Create DataFrame\n",
    "df = pd.DataFrame(data)\n",
    "\n",
    "# Perform ANOVA\n",
    "anova_result = f_oneway(df[df['Models'] == 'LDA']['Topic Coherency'],\n",
    "                        df[df['Models'] == 'Word2vec']['Topic Coherency'],\n",
    "                        df[df['Models'] == 'WELDA']['Topic Coherency'])\n",
    "\n",
    "# Print ANOVA results\n",
    "print(\"ANOVA Test Results:\")\n",
    "print(f\"F-statistic: {anova_result.statistic:.4f}\")\n",
    "print(f\"P-value: {anova_result.pvalue:.4f}\")\n"
   ]
  },
  {
   "cell_type": "code",
   "execution_count": null,
   "id": "b5e85672",
   "metadata": {},
   "outputs": [],
   "source": []
  }
 ],
 "metadata": {
  "kernelspec": {
   "display_name": "Python 3 (ipykernel)",
   "language": "python",
   "name": "python3"
  },
  "language_info": {
   "codemirror_mode": {
    "name": "ipython",
    "version": 3
   },
   "file_extension": ".py",
   "mimetype": "text/x-python",
   "name": "python",
   "nbconvert_exporter": "python",
   "pygments_lexer": "ipython3",
   "version": "3.10.9"
  }
 },
 "nbformat": 4,
 "nbformat_minor": 5
}
